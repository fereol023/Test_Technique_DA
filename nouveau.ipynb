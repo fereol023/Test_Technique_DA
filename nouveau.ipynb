{
 "cells": [
  {
   "cell_type": "code",
   "execution_count": null,
   "metadata": {},
   "outputs": [
    {
     "ename": "",
     "evalue": "",
     "output_type": "error",
     "traceback": [
      "\u001b[1;31mLe kernel n’a pas pu démarrer car une DLL n’a pas pu être chargée.\n",
      "\u001b[1;31mCliquez sur <a href='https://aka.ms/kernelFailuresDllLoad'>ici</a> pour plus d’informations."
     ]
    }
   ],
   "source": [
    "import pandas as pd\n",
    "\n",
    "p0_path = ''\n",
    "%pwd"
   ]
  },
  {
   "cell_type": "code",
   "execution_count": null,
   "metadata": {},
   "outputs": [],
   "source": []
  }
 ],
 "metadata": {
  "kernelspec": {
   "display_name": ".venv",
   "language": "python",
   "name": "python3"
  },
  "language_info": {
   "name": "python",
   "version": "3.8.8"
  }
 },
 "nbformat": 4,
 "nbformat_minor": 2
}
